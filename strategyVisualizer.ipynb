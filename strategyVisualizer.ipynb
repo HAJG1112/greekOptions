{
 "cells": [
  {
   "cell_type": "code",
   "execution_count": 1,
   "metadata": {},
   "outputs": [],
   "source": [
    "import numpy as np\n",
    "import matplotlib.pyplot as plt\n",
    "from greeks import *"
   ]
  },
  {
   "cell_type": "markdown",
   "metadata": {},
   "source": [
    "Straddle\n",
    "\n",
    "Long call and put for the same strike price on the same expiration date"
   ]
  },
  {
   "cell_type": "code",
   "execution_count": 2,
   "metadata": {},
   "outputs": [],
   "source": [
    "S = 100\n",
    "Kcall = 100\n",
    "Kput = 100\n",
    "T = 1\n",
    "r = 0.00\n",
    "sigma = 0.25"
   ]
  },
  {
   "cell_type": "code",
   "execution_count": 3,
   "metadata": {},
   "outputs": [],
   "source": [
    "prices = np.arange(50, 250, 1)\n",
    "\n",
    "deltas_c = delta_call(prices, Kcall, T, r, sigma)\n",
    "deltas_p = delta_put(prices, Kput, T, r, sigma)"
   ]
  },
  {
   "cell_type": "code",
   "execution_count": null,
   "metadata": {},
   "outputs": [],
   "source": [
    "straddle_deltas = deltas_c + deltas_p\n",
    "plt.plot(prices, straddle_deltas, label='Straddle Deltas')\n",
    "plt.xlabel('$S_0$')\n",
    "plt.ylabel('Delta')\n",
    "plt.title('Stock Price Effect on Delta for Calls/Puts' )\n",
    "plt.axvline(K, color='black', linestyle='dashed', linewidth=2,label=\"Strike\")\n",
    "plt.legend()"
   ]
  }
 ],
 "metadata": {
  "kernelspec": {
   "display_name": "Python 3",
   "language": "python",
   "name": "python3"
  },
  "language_info": {
   "codemirror_mode": {
    "name": "ipython",
    "version": 3
   },
   "file_extension": ".py",
   "mimetype": "text/x-python",
   "name": "python",
   "nbconvert_exporter": "python",
   "pygments_lexer": "ipython3",
   "version": "3.11.1"
  },
  "orig_nbformat": 4
 },
 "nbformat": 4,
 "nbformat_minor": 2
}
